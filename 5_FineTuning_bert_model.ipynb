{
 "cells": [
  {
   "cell_type": "code",
   "execution_count": 1,
   "id": "e6214f6b-d666-4381-9197-65de1ff03c2b",
   "metadata": {},
   "outputs": [
    {
     "name": "stderr",
     "output_type": "stream",
     "text": [
      "C:\\Users\\dany\\.conda\\envs\\tfm\\lib\\site-packages\\numpy\\_distributor_init.py:30: UserWarning: loaded more than 1 DLL from .libs:\n",
      "C:\\Users\\dany\\.conda\\envs\\tfm\\lib\\site-packages\\numpy\\.libs\\libopenblas.FB5AE2TYXYH2IJRDKGDGQ3XBKLKTF43H.gfortran-win_amd64.dll\n",
      "C:\\Users\\dany\\.conda\\envs\\tfm\\lib\\site-packages\\numpy\\.libs\\libopenblas64__v0.3.21-gcc_10_3_0.dll\n",
      "  warnings.warn(\"loaded more than 1 DLL from .libs:\"\n",
      "C:\\Users\\dany\\.conda\\envs\\tfm\\lib\\site-packages\\tqdm\\auto.py:21: TqdmWarning: IProgress not found. Please update jupyter and ipywidgets. See https://ipywidgets.readthedocs.io/en/stable/user_install.html\n",
      "  from .autonotebook import tqdm as notebook_tqdm\n"
     ]
    }
   ],
   "source": [
    "import tensorflow as tf\n",
    "from tensorflow.keras import activations,optimizers,losses\n",
    "from transformers import DistilBertTokenizer,TFDistilBertForSequenceClassification"
   ]
  },
  {
   "cell_type": "code",
   "execution_count": 2,
   "id": "b732d9f3-02c1-40f2-bc63-b29426df0bd8",
   "metadata": {},
   "outputs": [],
   "source": [
    "x = [\n",
    "    \"The director of the movie was drunk\",\n",
    "    \"The actor of the movie did well acting\",\n",
    "    \"Totally complete sci-fi comic book action movie with an excellent performance from Downey supported by a simple but solid script, superb effects and brilliant score.\",\n",
    "    \"Some funny bits but far too few to save this movie from a quick exit from the theaters.\",\n",
    "    \"A bizarre fact based story makes up this movie that was a monumental pain to sit through.\",\n",
    "    \"A comedy starring Tina Fey, Lily Tomlin, and Paul Rudd sounds like it would be a surefire laugh-fest...unfortunately the laughs are few and far between.\",\n",
    "    \"Decent story about loss, recovery, and learning to move on again.\",\n",
    "    \"A visually stunning spectacle that masterfully blends heart and humor, leaving audiences both entertained and deeply moved.\",\n",
    "    \"For true happiness you must find the ultimate freedom.\",\n",
    "    \"I would rather eat a golf ball than see this movie again.\"\n",
    "]"
   ]
  },
  {
   "cell_type": "code",
   "execution_count": 3,
   "id": "af4bd5ee-ac62-4678-be56-14ed1c9c381c",
   "metadata": {},
   "outputs": [
    {
     "data": {
      "text/plain": [
       "['The director of the movie was drunk',\n",
       " 'The actor of the movie did well acting',\n",
       " 'Totally complete sci-fi comic book action movie with an excellent performance from Downey supported by a simple but solid script, superb effects and brilliant score.',\n",
       " 'Some funny bits but far too few to save this movie from a quick exit from the theaters.',\n",
       " 'A bizarre fact based story makes up this movie that was a monumental pain to sit through.',\n",
       " 'A comedy starring Tina Fey, Lily Tomlin, and Paul Rudd sounds like it would be a surefire laugh-fest...unfortunately the laughs are few and far between.',\n",
       " 'Decent story about loss, recovery, and learning to move on again.',\n",
       " 'A visually stunning spectacle that masterfully blends heart and humor, leaving audiences both entertained and deeply moved.',\n",
       " 'For true happiness you must find the ultimate freedom.',\n",
       " 'I would rather eat a golf ball than see this movie again.']"
      ]
     },
     "execution_count": 3,
     "metadata": {},
     "output_type": "execute_result"
    }
   ],
   "source": [
    "x"
   ]
  },
  {
   "cell_type": "code",
   "execution_count": 4,
   "id": "63332712-163e-4f6c-a18c-b6ffcb72afc9",
   "metadata": {},
   "outputs": [],
   "source": [
    "y = [0,1,1,0,0,0,1,1,1,0]"
   ]
  },
  {
   "cell_type": "code",
   "execution_count": 5,
   "id": "b2a91a41-2b38-4da5-8af9-adf58264823d",
   "metadata": {},
   "outputs": [],
   "source": [
    "MODEL_NAME = 'distilbert-base-uncased'"
   ]
  },
  {
   "cell_type": "code",
   "execution_count": 6,
   "id": "c3ba8fce-812d-4c86-9a14-01f34194afd6",
   "metadata": {},
   "outputs": [],
   "source": [
    "MAX_LEN = 20"
   ]
  },
  {
   "cell_type": "code",
   "execution_count": 7,
   "id": "b6137751-cec9-4506-a2e7-1eb5ae492b91",
   "metadata": {},
   "outputs": [],
   "source": [
    "review = x[0]"
   ]
  },
  {
   "cell_type": "code",
   "execution_count": 8,
   "id": "1747763f-2477-498e-a28e-3ae3562a3d68",
   "metadata": {},
   "outputs": [
    {
     "name": "stderr",
     "output_type": "stream",
     "text": [
      "C:\\Users\\dany\\.conda\\envs\\tfm\\lib\\site-packages\\huggingface_hub\\file_download.py:1142: FutureWarning: `resume_download` is deprecated and will be removed in version 1.0.0. Downloads always resume when possible. If you want to force a new download, use `force_download=True`.\n",
      "  warnings.warn(\n"
     ]
    }
   ],
   "source": [
    "tkzr = DistilBertTokenizer.from_pretrained(MODEL_NAME)"
   ]
  },
  {
   "cell_type": "code",
   "execution_count": 9,
   "id": "06f5be92-d646-4148-9237-888887c771a8",
   "metadata": {},
   "outputs": [
    {
     "data": {
      "text/plain": [
       "DistilBertTokenizer(name_or_path='distilbert-base-uncased', vocab_size=30522, model_max_length=512, is_fast=False, padding_side='right', truncation_side='right', special_tokens={'unk_token': '[UNK]', 'sep_token': '[SEP]', 'pad_token': '[PAD]', 'cls_token': '[CLS]', 'mask_token': '[MASK]'}, clean_up_tokenization_spaces=True),  added_tokens_decoder={\n",
       "\t0: AddedToken(\"[PAD]\", rstrip=False, lstrip=False, single_word=False, normalized=False, special=True),\n",
       "\t100: AddedToken(\"[UNK]\", rstrip=False, lstrip=False, single_word=False, normalized=False, special=True),\n",
       "\t101: AddedToken(\"[CLS]\", rstrip=False, lstrip=False, single_word=False, normalized=False, special=True),\n",
       "\t102: AddedToken(\"[SEP]\", rstrip=False, lstrip=False, single_word=False, normalized=False, special=True),\n",
       "\t103: AddedToken(\"[MASK]\", rstrip=False, lstrip=False, single_word=False, normalized=False, special=True),\n",
       "}"
      ]
     },
     "execution_count": 9,
     "metadata": {},
     "output_type": "execute_result"
    }
   ],
   "source": [
    "tkzr"
   ]
  },
  {
   "cell_type": "code",
   "execution_count": 10,
   "id": "8580e943-09f3-4cae-9f81-ed9475cf8d00",
   "metadata": {},
   "outputs": [],
   "source": [
    "inputs = tkzr(review,max_length=MAX_LEN,truncation=True,padding=True)"
   ]
  },
  {
   "cell_type": "code",
   "execution_count": 11,
   "id": "f497afbe-5b0d-483c-8c90-e05bd01c2ce5",
   "metadata": {},
   "outputs": [
    {
     "data": {
      "text/plain": [
       "{'input_ids': [101, 1996, 2472, 1997, 1996, 3185, 2001, 7144, 102], 'attention_mask': [1, 1, 1, 1, 1, 1, 1, 1, 1]}"
      ]
     },
     "execution_count": 11,
     "metadata": {},
     "output_type": "execute_result"
    }
   ],
   "source": [
    "inputs"
   ]
  },
  {
   "cell_type": "code",
   "execution_count": 12,
   "id": "9736996e-8e95-43a2-850e-d74b04d3d8c2",
   "metadata": {},
   "outputs": [
    {
     "data": {
      "text/plain": [
       "[101, 1996, 2472, 1997, 1996, 3185, 2001, 7144, 102]"
      ]
     },
     "execution_count": 12,
     "metadata": {},
     "output_type": "execute_result"
    }
   ],
   "source": [
    "inputs['input_ids']"
   ]
  },
  {
   "cell_type": "code",
   "execution_count": 13,
   "id": "ddeff3f3-9196-46a6-bde2-47a8ea4b4a24",
   "metadata": {},
   "outputs": [
    {
     "data": {
      "text/plain": [
       "[1, 1, 1, 1, 1, 1, 1, 1, 1]"
      ]
     },
     "execution_count": 13,
     "metadata": {},
     "output_type": "execute_result"
    }
   ],
   "source": [
    "inputs['attention_mask']"
   ]
  },
  {
   "cell_type": "code",
   "execution_count": 14,
   "id": "d3630066-238b-4c4b-aac6-33b75b0ac807",
   "metadata": {},
   "outputs": [],
   "source": [
    "def construct_encodings(x,tkzr,max_len,truncation=True,padding=True):\n",
    "    return (tkzr(x,max_length=max_len,truncation=truncation,padding=padding))"
   ]
  },
  {
   "cell_type": "code",
   "execution_count": 15,
   "id": "e84aa5a2-cfc1-46a7-81f8-1894d12118c0",
   "metadata": {},
   "outputs": [],
   "source": [
    "encoding = construct_encodings(x,tkzr,max_len=MAX_LEN)"
   ]
  },
  {
   "cell_type": "code",
   "execution_count": 16,
   "id": "556f5117-7f29-44fe-8348-998db0bb9e82",
   "metadata": {},
   "outputs": [
    {
     "data": {
      "text/plain": [
       "{'input_ids': [[101, 1996, 2472, 1997, 1996, 3185, 2001, 7144, 102, 0, 0, 0, 0, 0, 0, 0, 0, 0, 0, 0], [101, 1996, 3364, 1997, 1996, 3185, 2106, 2092, 3772, 102, 0, 0, 0, 0, 0, 0, 0, 0, 0, 0], [101, 6135, 3143, 16596, 1011, 10882, 5021, 2338, 2895, 3185, 2007, 2019, 6581, 2836, 2013, 2091, 3240, 3569, 2011, 102], [101, 2070, 6057, 9017, 2021, 2521, 2205, 2261, 2000, 3828, 2023, 3185, 2013, 1037, 4248, 6164, 2013, 1996, 12370, 102], [101, 1037, 13576, 2755, 2241, 2466, 3084, 2039, 2023, 3185, 2008, 2001, 1037, 15447, 3255, 2000, 4133, 2083, 1012, 102], [101, 1037, 4038, 4626, 11958, 23864, 1010, 7094, 3419, 4115, 1010, 1998, 2703, 25298, 4165, 2066, 2009, 2052, 2022, 102], [101, 11519, 2466, 2055, 3279, 1010, 7233, 1010, 1998, 4083, 2000, 2693, 2006, 2153, 1012, 102, 0, 0, 0, 0], [101, 1037, 17453, 14726, 21177, 2008, 3040, 7699, 12586, 2015, 2540, 1998, 8562, 1010, 2975, 9501, 2119, 21474, 1998, 102], [101, 2005, 2995, 8404, 2017, 2442, 2424, 1996, 7209, 4071, 1012, 102, 0, 0, 0, 0, 0, 0, 0, 0], [101, 1045, 2052, 2738, 4521, 1037, 5439, 3608, 2084, 2156, 2023, 3185, 2153, 1012, 102, 0, 0, 0, 0, 0]], 'attention_mask': [[1, 1, 1, 1, 1, 1, 1, 1, 1, 0, 0, 0, 0, 0, 0, 0, 0, 0, 0, 0], [1, 1, 1, 1, 1, 1, 1, 1, 1, 1, 0, 0, 0, 0, 0, 0, 0, 0, 0, 0], [1, 1, 1, 1, 1, 1, 1, 1, 1, 1, 1, 1, 1, 1, 1, 1, 1, 1, 1, 1], [1, 1, 1, 1, 1, 1, 1, 1, 1, 1, 1, 1, 1, 1, 1, 1, 1, 1, 1, 1], [1, 1, 1, 1, 1, 1, 1, 1, 1, 1, 1, 1, 1, 1, 1, 1, 1, 1, 1, 1], [1, 1, 1, 1, 1, 1, 1, 1, 1, 1, 1, 1, 1, 1, 1, 1, 1, 1, 1, 1], [1, 1, 1, 1, 1, 1, 1, 1, 1, 1, 1, 1, 1, 1, 1, 1, 0, 0, 0, 0], [1, 1, 1, 1, 1, 1, 1, 1, 1, 1, 1, 1, 1, 1, 1, 1, 1, 1, 1, 1], [1, 1, 1, 1, 1, 1, 1, 1, 1, 1, 1, 1, 0, 0, 0, 0, 0, 0, 0, 0], [1, 1, 1, 1, 1, 1, 1, 1, 1, 1, 1, 1, 1, 1, 1, 0, 0, 0, 0, 0]]}"
      ]
     },
     "execution_count": 16,
     "metadata": {},
     "output_type": "execute_result"
    }
   ],
   "source": [
    "encoding"
   ]
  },
  {
   "cell_type": "code",
   "execution_count": 17,
   "id": "6c3d3208-cc8d-4372-bb81-d69fc754253c",
   "metadata": {},
   "outputs": [],
   "source": [
    "def construct_tfdataset(encoding,y=None):\n",
    "    if y:\n",
    "        return tf.data.Dataset.from_tensor_slices((dict(encoding),y))\n",
    "    else:\n",
    "        return tf.data.Dataset.from_tensor_slices(dict(encoding))"
   ]
  },
  {
   "cell_type": "code",
   "execution_count": 18,
   "id": "bcc00721-0d6a-49db-be51-9dcb9927429c",
   "metadata": {},
   "outputs": [],
   "source": [
    "tfdataset = construct_tfdataset(encoding,y)"
   ]
  },
  {
   "cell_type": "code",
   "execution_count": 19,
   "id": "d4f8cef9-7363-45f9-a04d-2c47744568bb",
   "metadata": {},
   "outputs": [
    {
     "data": {
      "text/plain": [
       "<_TensorSliceDataset element_spec=({'input_ids': TensorSpec(shape=(20,), dtype=tf.int32, name=None), 'attention_mask': TensorSpec(shape=(20,), dtype=tf.int32, name=None)}, TensorSpec(shape=(), dtype=tf.int32, name=None))>"
      ]
     },
     "execution_count": 19,
     "metadata": {},
     "output_type": "execute_result"
    }
   ],
   "source": [
    "tfdataset"
   ]
  },
  {
   "cell_type": "code",
   "execution_count": 20,
   "id": "e264d52f-f848-47ab-8b3a-00d388ba5681",
   "metadata": {},
   "outputs": [],
   "source": [
    "TEST_SPLIT = 0.2\n",
    "BATCH_SIZE = 2\n",
    "train_size = int(len(x)*(1-TEST_SPLIT))\n",
    "tfdataset = tfdataset.shuffle(len(x))\n",
    "tfdataset_train = tfdataset.take(train_size)\n",
    "tfdataset_test = tfdataset.skip(train_size)\n"
   ]
  },
  {
   "cell_type": "code",
   "execution_count": 21,
   "id": "bf06a985-b39a-46be-af13-5800cb124144",
   "metadata": {},
   "outputs": [
    {
     "data": {
      "text/plain": [
       "8"
      ]
     },
     "execution_count": 21,
     "metadata": {},
     "output_type": "execute_result"
    }
   ],
   "source": [
    "train_size"
   ]
  },
  {
   "cell_type": "code",
   "execution_count": 22,
   "id": "04dff8b5-6875-45d0-9635-e269a8c3f7e7",
   "metadata": {},
   "outputs": [
    {
     "data": {
      "text/plain": [
       "<_TakeDataset element_spec=({'input_ids': TensorSpec(shape=(20,), dtype=tf.int32, name=None), 'attention_mask': TensorSpec(shape=(20,), dtype=tf.int32, name=None)}, TensorSpec(shape=(), dtype=tf.int32, name=None))>"
      ]
     },
     "execution_count": 22,
     "metadata": {},
     "output_type": "execute_result"
    }
   ],
   "source": [
    "tfdataset_train"
   ]
  },
  {
   "cell_type": "code",
   "execution_count": 23,
   "id": "8f3e7394-c87c-4286-be88-31dfdf3a072c",
   "metadata": {},
   "outputs": [
    {
     "data": {
      "text/plain": [
       "<_SkipDataset element_spec=({'input_ids': TensorSpec(shape=(20,), dtype=tf.int32, name=None), 'attention_mask': TensorSpec(shape=(20,), dtype=tf.int32, name=None)}, TensorSpec(shape=(), dtype=tf.int32, name=None))>"
      ]
     },
     "execution_count": 23,
     "metadata": {},
     "output_type": "execute_result"
    }
   ],
   "source": [
    "tfdataset_test"
   ]
  },
  {
   "cell_type": "code",
   "execution_count": 24,
   "id": "729bcefe-e125-4a42-a087-405ac458c508",
   "metadata": {},
   "outputs": [],
   "source": [
    "tfdataset_train = tfdataset_train.batch(BATCH_SIZE)\n",
    "tfdataset_test = tfdataset_test.batch(BATCH_SIZE)"
   ]
  },
  {
   "cell_type": "code",
   "execution_count": 25,
   "id": "0dcfe977-6ad7-4b66-9b1f-2f13e1c8136b",
   "metadata": {},
   "outputs": [],
   "source": [
    "N_EPOCHS = 2"
   ]
  },
  {
   "cell_type": "code",
   "execution_count": 26,
   "id": "ec3b1b76-20a0-4224-b8be-59cc64adeaa9",
   "metadata": {},
   "outputs": [
    {
     "name": "stderr",
     "output_type": "stream",
     "text": [
      "Some weights of the PyTorch model were not used when initializing the TF 2.0 model TFDistilBertForSequenceClassification: ['vocab_projector.bias', 'vocab_transform.weight', 'vocab_transform.bias', 'vocab_layer_norm.weight', 'vocab_layer_norm.bias']\n",
      "- This IS expected if you are initializing TFDistilBertForSequenceClassification from a PyTorch model trained on another task or with another architecture (e.g. initializing a TFBertForSequenceClassification model from a BertForPreTraining model).\n",
      "- This IS NOT expected if you are initializing TFDistilBertForSequenceClassification from a PyTorch model that you expect to be exactly identical (e.g. initializing a TFBertForSequenceClassification model from a BertForSequenceClassification model).\n",
      "Some weights or buffers of the TF 2.0 model TFDistilBertForSequenceClassification were not initialized from the PyTorch model and are newly initialized: ['pre_classifier.weight', 'pre_classifier.bias', 'classifier.weight', 'classifier.bias']\n",
      "You should probably TRAIN this model on a down-stream task to be able to use it for predictions and inference.\n"
     ]
    }
   ],
   "source": [
    "model = TFDistilBertForSequenceClassification.from_pretrained(MODEL_NAME)"
   ]
  },
  {
   "cell_type": "code",
   "execution_count": 27,
   "id": "f8da7b03-c197-4348-bb29-a52c5f3ca9d6",
   "metadata": {},
   "outputs": [],
   "source": [
    "optimizer = optimizers.Adam(learning_rate=3e-5)"
   ]
  },
  {
   "cell_type": "code",
   "execution_count": 28,
   "id": "80719d29-d5db-4feb-8546-2b6298976992",
   "metadata": {},
   "outputs": [],
   "source": [
    "loss = losses.SparseCategoricalCrossentropy(from_logits=True)"
   ]
  },
  {
   "cell_type": "code",
   "execution_count": 29,
   "id": "a0968d53-c569-4f0b-97ac-2f65a882f4ca",
   "metadata": {},
   "outputs": [],
   "source": [
    "model.compile(optimizer=optimizer,loss=loss,metrics=['accuracy'])"
   ]
  },
  {
   "cell_type": "code",
   "execution_count": 30,
   "id": "5790f038-2f44-480a-a689-e8ff9e9d8184",
   "metadata": {},
   "outputs": [
    {
     "name": "stdout",
     "output_type": "stream",
     "text": [
      "Epoch 1/2\n",
      "4/4 [==============================] - 12s 618ms/step - loss: 0.7021 - accuracy: 0.3750\n",
      "Epoch 2/2\n",
      "4/4 [==============================] - 3s 704ms/step - loss: 0.6683 - accuracy: 0.6250\n"
     ]
    },
    {
     "data": {
      "text/plain": [
       "<keras.callbacks.History at 0x1718adb2760>"
      ]
     },
     "execution_count": 30,
     "metadata": {},
     "output_type": "execute_result"
    }
   ],
   "source": [
    "model.fit(tfdataset_train,batch_size=BATCH_SIZE,epochs=N_EPOCHS)"
   ]
  },
  {
   "cell_type": "code",
   "execution_count": 31,
   "id": "9c5eb4d0-c9ad-4b6e-9ea0-1c99bd158b57",
   "metadata": {},
   "outputs": [
    {
     "name": "stdout",
     "output_type": "stream",
     "text": [
      "1/1 [==============================] - 1s 984ms/step - loss: 0.6652 - accuracy: 0.5000\n",
      "{'loss': 0.6652047038078308, 'accuracy': 0.5}\n"
     ]
    }
   ],
   "source": [
    "benchmark = model.evaluate(tfdataset_test,return_dict=True,batch_size=BATCH_SIZE)\n",
    "print(benchmark)"
   ]
  },
  {
   "cell_type": "code",
   "execution_count": 36,
   "id": "44534a64-0fbe-4cef-9b59-65a3ca9d7626",
   "metadata": {},
   "outputs": [],
   "source": [
    "def create_predictor(model,model_name,max_len):\n",
    "    tkzr = DistilBertTokenizer.from_pretrained(model_name)\n",
    "    def predict_proba(text):\n",
    "        x = [text]\n",
    "        encodings = construct_encodings(x,tkzr,max_len=max_len)\n",
    "        tfdataset = construct_tfdataset(encodings)\n",
    "        tfdataset = tfdataset.batch(1)\n",
    "        preds = model.predict(tfdataset).logits\n",
    "        preds = activations.softmax(tf.convert_to_tensor(preds)).numpy()\n",
    "        return preds[0][0]\n",
    "    return predict_proba"
   ]
  },
  {
   "cell_type": "code",
   "execution_count": 37,
   "id": "f2cc844e-6795-434d-9786-121e8257073d",
   "metadata": {},
   "outputs": [
    {
     "name": "stdout",
     "output_type": "stream",
     "text": [
      "1/1 [==============================] - 0s 31ms/step\n",
      "0.49394506\n"
     ]
    }
   ],
   "source": [
    "clf = create_predictor(model,MODEL_NAME,MAX_LEN)\n",
    "print(clf(\"this restaurant has horrible food\"))"
   ]
  },
  {
   "cell_type": "code",
   "execution_count": 38,
   "id": "9d0ff684-d579-4bfa-9364-bc49d2c379a3",
   "metadata": {},
   "outputs": [],
   "source": [
    "import pickle"
   ]
  },
  {
   "cell_type": "code",
   "execution_count": 41,
   "id": "1ff2ec2e-a11a-4df8-bf1a-be9c541862ac",
   "metadata": {},
   "outputs": [],
   "source": [
    "model.save_pretrained('./model/clf')\n",
    "with open('./model.info.pkl','wb') as f:\n",
    "    pickle.dump((MODEL_NAME,MAX_LEN),f)"
   ]
  },
  {
   "cell_type": "code",
   "execution_count": 42,
   "id": "b22da635-2316-4c48-bc5d-3cfd4b12ba6f",
   "metadata": {},
   "outputs": [
    {
     "name": "stderr",
     "output_type": "stream",
     "text": [
      "Some layers from the model checkpoint at ./model/clf were not used when initializing TFDistilBertForSequenceClassification: ['dropout_19']\n",
      "- This IS expected if you are initializing TFDistilBertForSequenceClassification from the checkpoint of a model trained on another task or with another architecture (e.g. initializing a BertForSequenceClassification model from a BertForPreTraining model).\n",
      "- This IS NOT expected if you are initializing TFDistilBertForSequenceClassification from the checkpoint of a model that you expect to be exactly identical (initializing a BertForSequenceClassification model from a BertForSequenceClassification model).\n",
      "Some layers of TFDistilBertForSequenceClassification were not initialized from the model checkpoint at ./model/clf and are newly initialized: ['dropout_39']\n",
      "You should probably TRAIN this model on a down-stream task to be able to use it for predictions and inference.\n"
     ]
    }
   ],
   "source": [
    "new_model = TFDistilBertForSequenceClassification.from_pretrained('./model/clf')\n",
    "model_name,max_len = pickle.load(open('./model.info.pkl','rb'))\n"
   ]
  },
  {
   "cell_type": "code",
   "execution_count": 43,
   "id": "d388f524-f658-46e5-a489-644f2a37b9cc",
   "metadata": {},
   "outputs": [
    {
     "name": "stderr",
     "output_type": "stream",
     "text": [
      "C:\\Users\\dany\\.conda\\envs\\tfm\\lib\\site-packages\\huggingface_hub\\file_download.py:1142: FutureWarning: `resume_download` is deprecated and will be removed in version 1.0.0. Downloads always resume when possible. If you want to force a new download, use `force_download=True`.\n",
      "  warnings.warn(\n"
     ]
    }
   ],
   "source": [
    "clf = create_predictor(new_model,model_name,max_len)"
   ]
  },
  {
   "cell_type": "code",
   "execution_count": 44,
   "id": "ee2f96a9-4eaa-4799-b153-f26a500323e8",
   "metadata": {},
   "outputs": [
    {
     "name": "stdout",
     "output_type": "stream",
     "text": [
      "1/1 [==============================] - 1s 958ms/step\n",
      "0.50311273\n"
     ]
    }
   ],
   "source": [
    "print(clf('this restaurent has horrible food')) "
   ]
  },
  {
   "cell_type": "code",
   "execution_count": null,
   "id": "9742740a-fc34-4d3e-b9c0-f3ca9a6a3ccd",
   "metadata": {},
   "outputs": [],
   "source": []
  }
 ],
 "metadata": {
  "kernelspec": {
   "display_name": "Python 3 (ipykernel)",
   "language": "python",
   "name": "python3"
  },
  "language_info": {
   "codemirror_mode": {
    "name": "ipython",
    "version": 3
   },
   "file_extension": ".py",
   "mimetype": "text/x-python",
   "name": "python",
   "nbconvert_exporter": "python",
   "pygments_lexer": "ipython3",
   "version": "3.12.4"
  }
 },
 "nbformat": 4,
 "nbformat_minor": 5
}
