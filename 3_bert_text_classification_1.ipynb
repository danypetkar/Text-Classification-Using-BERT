{
 "cells": [
  {
   "cell_type": "code",
   "execution_count": 1,
   "id": "aca13545-19cb-47ac-a8a4-7d11781d9238",
   "metadata": {},
   "outputs": [],
   "source": [
    "import tensorflow_text as text\n",
    "import tensorflow as tf\n",
    "import tensorflow_hub as hub"
   ]
  },
  {
   "cell_type": "code",
   "execution_count": 2,
   "id": "944b8a50-11b2-463f-8c00-77f40eccf324",
   "metadata": {},
   "outputs": [],
   "source": [
    "import pandas as pd"
   ]
  },
  {
   "cell_type": "code",
   "execution_count": 3,
   "id": "fe66c37d-7b3b-485a-9aed-2dda615310d8",
   "metadata": {},
   "outputs": [],
   "source": [
    "df = pd.read_csv('SMSSpamCollection', sep='\\t',names=['Category','message'],encoding=\"latin1\")"
   ]
  },
  {
   "cell_type": "code",
   "execution_count": 4,
   "id": "a567aad6-f12e-483a-b9a7-2f741ef596ed",
   "metadata": {},
   "outputs": [
    {
     "data": {
      "text/html": [
       "<div>\n",
       "<style scoped>\n",
       "    .dataframe tbody tr th:only-of-type {\n",
       "        vertical-align: middle;\n",
       "    }\n",
       "\n",
       "    .dataframe tbody tr th {\n",
       "        vertical-align: top;\n",
       "    }\n",
       "\n",
       "    .dataframe thead th {\n",
       "        text-align: right;\n",
       "    }\n",
       "</style>\n",
       "<table border=\"1\" class=\"dataframe\">\n",
       "  <thead>\n",
       "    <tr style=\"text-align: right;\">\n",
       "      <th></th>\n",
       "      <th>Category</th>\n",
       "      <th>message</th>\n",
       "    </tr>\n",
       "  </thead>\n",
       "  <tbody>\n",
       "    <tr>\n",
       "      <th>0</th>\n",
       "      <td>ham</td>\n",
       "      <td>Go until jurong point, crazy.. Available only ...</td>\n",
       "    </tr>\n",
       "    <tr>\n",
       "      <th>1</th>\n",
       "      <td>ham</td>\n",
       "      <td>Ok lar... Joking wif u oni...</td>\n",
       "    </tr>\n",
       "    <tr>\n",
       "      <th>2</th>\n",
       "      <td>spam</td>\n",
       "      <td>Free entry in 2 a wkly comp to win FA Cup fina...</td>\n",
       "    </tr>\n",
       "    <tr>\n",
       "      <th>3</th>\n",
       "      <td>ham</td>\n",
       "      <td>U dun say so early hor... U c already then say...</td>\n",
       "    </tr>\n",
       "    <tr>\n",
       "      <th>4</th>\n",
       "      <td>ham</td>\n",
       "      <td>Nah I don't think he goes to usf, he lives aro...</td>\n",
       "    </tr>\n",
       "  </tbody>\n",
       "</table>\n",
       "</div>"
      ],
      "text/plain": [
       "  Category                                            message\n",
       "0      ham  Go until jurong point, crazy.. Available only ...\n",
       "1      ham                      Ok lar... Joking wif u oni...\n",
       "2     spam  Free entry in 2 a wkly comp to win FA Cup fina...\n",
       "3      ham  U dun say so early hor... U c already then say...\n",
       "4      ham  Nah I don't think he goes to usf, he lives aro..."
      ]
     },
     "execution_count": 4,
     "metadata": {},
     "output_type": "execute_result"
    }
   ],
   "source": [
    "df.head(5)"
   ]
  },
  {
   "cell_type": "code",
   "execution_count": 5,
   "id": "dfdb629c-12c1-46be-a87c-5de3e8fa9178",
   "metadata": {},
   "outputs": [
    {
     "data": {
      "text/plain": [
       "Category\n",
       "ham     4825\n",
       "spam     747\n",
       "Name: count, dtype: int64"
      ]
     },
     "execution_count": 5,
     "metadata": {},
     "output_type": "execute_result"
    }
   ],
   "source": [
    "df['Category'].value_counts()"
   ]
  },
  {
   "cell_type": "code",
   "execution_count": 6,
   "id": "7f75e6a0-ff39-4ed4-a64d-2e6d9d658f51",
   "metadata": {},
   "outputs": [],
   "source": [
    "df_spam = df[df['Category']=='spam']"
   ]
  },
  {
   "cell_type": "code",
   "execution_count": 7,
   "id": "371c8791-0349-455d-910f-ece8a4d476a3",
   "metadata": {},
   "outputs": [
    {
     "data": {
      "text/html": [
       "<div>\n",
       "<style scoped>\n",
       "    .dataframe tbody tr th:only-of-type {\n",
       "        vertical-align: middle;\n",
       "    }\n",
       "\n",
       "    .dataframe tbody tr th {\n",
       "        vertical-align: top;\n",
       "    }\n",
       "\n",
       "    .dataframe thead th {\n",
       "        text-align: right;\n",
       "    }\n",
       "</style>\n",
       "<table border=\"1\" class=\"dataframe\">\n",
       "  <thead>\n",
       "    <tr style=\"text-align: right;\">\n",
       "      <th></th>\n",
       "      <th>Category</th>\n",
       "      <th>message</th>\n",
       "    </tr>\n",
       "  </thead>\n",
       "  <tbody>\n",
       "    <tr>\n",
       "      <th>2</th>\n",
       "      <td>spam</td>\n",
       "      <td>Free entry in 2 a wkly comp to win FA Cup fina...</td>\n",
       "    </tr>\n",
       "    <tr>\n",
       "      <th>5</th>\n",
       "      <td>spam</td>\n",
       "      <td>FreeMsg Hey there darling it's been 3 week's n...</td>\n",
       "    </tr>\n",
       "    <tr>\n",
       "      <th>8</th>\n",
       "      <td>spam</td>\n",
       "      <td>WINNER!! As a valued network customer you have...</td>\n",
       "    </tr>\n",
       "    <tr>\n",
       "      <th>9</th>\n",
       "      <td>spam</td>\n",
       "      <td>Had your mobile 11 months or more? U R entitle...</td>\n",
       "    </tr>\n",
       "    <tr>\n",
       "      <th>11</th>\n",
       "      <td>spam</td>\n",
       "      <td>SIX chances to win CASH! From 100 to 20,000 po...</td>\n",
       "    </tr>\n",
       "    <tr>\n",
       "      <th>...</th>\n",
       "      <td>...</td>\n",
       "      <td>...</td>\n",
       "    </tr>\n",
       "    <tr>\n",
       "      <th>5537</th>\n",
       "      <td>spam</td>\n",
       "      <td>Want explicit SEX in 30 secs? Ring 02073162414...</td>\n",
       "    </tr>\n",
       "    <tr>\n",
       "      <th>5540</th>\n",
       "      <td>spam</td>\n",
       "      <td>ASKED 3MOBILE IF 0870 CHATLINES INCLU IN FREE ...</td>\n",
       "    </tr>\n",
       "    <tr>\n",
       "      <th>5547</th>\n",
       "      <td>spam</td>\n",
       "      <td>Had your contract mobile 11 Mnths? Latest Moto...</td>\n",
       "    </tr>\n",
       "    <tr>\n",
       "      <th>5566</th>\n",
       "      <td>spam</td>\n",
       "      <td>REMINDER FROM O2: To get 2.50 pounds free call...</td>\n",
       "    </tr>\n",
       "    <tr>\n",
       "      <th>5567</th>\n",
       "      <td>spam</td>\n",
       "      <td>This is the 2nd time we have tried 2 contact u...</td>\n",
       "    </tr>\n",
       "  </tbody>\n",
       "</table>\n",
       "<p>747 rows × 2 columns</p>\n",
       "</div>"
      ],
      "text/plain": [
       "     Category                                            message\n",
       "2        spam  Free entry in 2 a wkly comp to win FA Cup fina...\n",
       "5        spam  FreeMsg Hey there darling it's been 3 week's n...\n",
       "8        spam  WINNER!! As a valued network customer you have...\n",
       "9        spam  Had your mobile 11 months or more? U R entitle...\n",
       "11       spam  SIX chances to win CASH! From 100 to 20,000 po...\n",
       "...       ...                                                ...\n",
       "5537     spam  Want explicit SEX in 30 secs? Ring 02073162414...\n",
       "5540     spam  ASKED 3MOBILE IF 0870 CHATLINES INCLU IN FREE ...\n",
       "5547     spam  Had your contract mobile 11 Mnths? Latest Moto...\n",
       "5566     spam  REMINDER FROM O2: To get 2.50 pounds free call...\n",
       "5567     spam  This is the 2nd time we have tried 2 contact u...\n",
       "\n",
       "[747 rows x 2 columns]"
      ]
     },
     "execution_count": 7,
     "metadata": {},
     "output_type": "execute_result"
    }
   ],
   "source": [
    "df_spam"
   ]
  },
  {
   "cell_type": "code",
   "execution_count": 8,
   "id": "5acf0941-f27a-4448-af26-e3f610560ffc",
   "metadata": {},
   "outputs": [
    {
     "data": {
      "text/plain": [
       "(747, 2)"
      ]
     },
     "execution_count": 8,
     "metadata": {},
     "output_type": "execute_result"
    }
   ],
   "source": [
    "df_spam.shape"
   ]
  },
  {
   "cell_type": "code",
   "execution_count": 9,
   "id": "5fbc8b7a-fb9a-41ef-84dd-a9f51aa1dcc5",
   "metadata": {},
   "outputs": [],
   "source": [
    "df_ham = df[df['Category']=='ham']"
   ]
  },
  {
   "cell_type": "code",
   "execution_count": 10,
   "id": "31440572-927f-4360-98d5-5553107645ab",
   "metadata": {},
   "outputs": [
    {
     "data": {
      "text/plain": [
       "(4825, 2)"
      ]
     },
     "execution_count": 10,
     "metadata": {},
     "output_type": "execute_result"
    }
   ],
   "source": [
    "df_ham.shape"
   ]
  },
  {
   "cell_type": "code",
   "execution_count": 11,
   "id": "20b8d987-bc8a-4643-af7a-1e81f1585a8a",
   "metadata": {},
   "outputs": [
    {
     "data": {
      "text/html": [
       "<div>\n",
       "<style scoped>\n",
       "    .dataframe tbody tr th:only-of-type {\n",
       "        vertical-align: middle;\n",
       "    }\n",
       "\n",
       "    .dataframe tbody tr th {\n",
       "        vertical-align: top;\n",
       "    }\n",
       "\n",
       "    .dataframe thead th {\n",
       "        text-align: right;\n",
       "    }\n",
       "</style>\n",
       "<table border=\"1\" class=\"dataframe\">\n",
       "  <thead>\n",
       "    <tr style=\"text-align: right;\">\n",
       "      <th></th>\n",
       "      <th>Category</th>\n",
       "      <th>message</th>\n",
       "    </tr>\n",
       "  </thead>\n",
       "  <tbody>\n",
       "    <tr>\n",
       "      <th>3719</th>\n",
       "      <td>ham</td>\n",
       "      <td>Cool. Do you like swimming? I have a pool and ...</td>\n",
       "    </tr>\n",
       "    <tr>\n",
       "      <th>931</th>\n",
       "      <td>ham</td>\n",
       "      <td>I'm really sorry i won't b able 2 do this frid...</td>\n",
       "    </tr>\n",
       "    <tr>\n",
       "      <th>1481</th>\n",
       "      <td>ham</td>\n",
       "      <td>Have you always been saying welp?</td>\n",
       "    </tr>\n",
       "    <tr>\n",
       "      <th>3122</th>\n",
       "      <td>ham</td>\n",
       "      <td>Small problem in auction:)punj now asking tiwary</td>\n",
       "    </tr>\n",
       "    <tr>\n",
       "      <th>3811</th>\n",
       "      <td>ham</td>\n",
       "      <td>Aight, can you text me the address?</td>\n",
       "    </tr>\n",
       "    <tr>\n",
       "      <th>...</th>\n",
       "      <td>...</td>\n",
       "      <td>...</td>\n",
       "    </tr>\n",
       "    <tr>\n",
       "      <th>323</th>\n",
       "      <td>ham</td>\n",
       "      <td>cud u tell ppl im gona b a bit l8 cos 2 buses ...</td>\n",
       "    </tr>\n",
       "    <tr>\n",
       "      <th>5523</th>\n",
       "      <td>ham</td>\n",
       "      <td>Going to join tomorrow.</td>\n",
       "    </tr>\n",
       "    <tr>\n",
       "      <th>87</th>\n",
       "      <td>ham</td>\n",
       "      <td>Yes I started to send requests to make it but ...</td>\n",
       "    </tr>\n",
       "    <tr>\n",
       "      <th>1951</th>\n",
       "      <td>ham</td>\n",
       "      <td>Oh ic. I thought you meant mary jane.</td>\n",
       "    </tr>\n",
       "    <tr>\n",
       "      <th>3904</th>\n",
       "      <td>ham</td>\n",
       "      <td>Waiting in e car 4 my mum lor. U leh? Reach ho...</td>\n",
       "    </tr>\n",
       "  </tbody>\n",
       "</table>\n",
       "<p>747 rows × 2 columns</p>\n",
       "</div>"
      ],
      "text/plain": [
       "     Category                                            message\n",
       "3719      ham  Cool. Do you like swimming? I have a pool and ...\n",
       "931       ham  I'm really sorry i won't b able 2 do this frid...\n",
       "1481      ham                  Have you always been saying welp?\n",
       "3122      ham   Small problem in auction:)punj now asking tiwary\n",
       "3811      ham                Aight, can you text me the address?\n",
       "...       ...                                                ...\n",
       "323       ham  cud u tell ppl im gona b a bit l8 cos 2 buses ...\n",
       "5523      ham                            Going to join tomorrow.\n",
       "87        ham  Yes I started to send requests to make it but ...\n",
       "1951      ham              Oh ic. I thought you meant mary jane.\n",
       "3904      ham  Waiting in e car 4 my mum lor. U leh? Reach ho...\n",
       "\n",
       "[747 rows x 2 columns]"
      ]
     },
     "execution_count": 11,
     "metadata": {},
     "output_type": "execute_result"
    }
   ],
   "source": [
    "df_ham.sample(df_spam.shape[0])"
   ]
  },
  {
   "cell_type": "code",
   "execution_count": 12,
   "id": "748c9265-ad04-4ac9-809c-685f571acdc2",
   "metadata": {},
   "outputs": [],
   "source": [
    "df_ham_downsampled = df_ham.sample(df_spam.shape[0])"
   ]
  },
  {
   "cell_type": "code",
   "execution_count": 13,
   "id": "fe7c5e74-4573-4d58-80d2-24d8cd2c583e",
   "metadata": {},
   "outputs": [
    {
     "data": {
      "text/plain": [
       "(747, 2)"
      ]
     },
     "execution_count": 13,
     "metadata": {},
     "output_type": "execute_result"
    }
   ],
   "source": [
    "df_ham_downsampled.shape"
   ]
  },
  {
   "cell_type": "code",
   "execution_count": 14,
   "id": "9dd80ad9-9d25-4ee7-b5b6-d4584c3911f1",
   "metadata": {},
   "outputs": [],
   "source": [
    "df_balanced = pd.concat([df_spam,df_ham_downsampled])"
   ]
  },
  {
   "cell_type": "code",
   "execution_count": 15,
   "id": "28549c9a-ccdf-42f0-b603-4c1b0f9ecac1",
   "metadata": {},
   "outputs": [
    {
     "data": {
      "text/plain": [
       "(1494, 2)"
      ]
     },
     "execution_count": 15,
     "metadata": {},
     "output_type": "execute_result"
    }
   ],
   "source": [
    "df_balanced.shape"
   ]
  },
  {
   "cell_type": "code",
   "execution_count": 16,
   "id": "6403644b-bc87-4718-96fe-be8a819d9d86",
   "metadata": {},
   "outputs": [
    {
     "data": {
      "text/plain": [
       "Category\n",
       "spam    747\n",
       "ham     747\n",
       "Name: count, dtype: int64"
      ]
     },
     "execution_count": 16,
     "metadata": {},
     "output_type": "execute_result"
    }
   ],
   "source": [
    "df_balanced['Category'].value_counts()"
   ]
  },
  {
   "cell_type": "code",
   "execution_count": 17,
   "id": "548240c8-0ffd-4bd1-8e62-c5e3f903cca4",
   "metadata": {},
   "outputs": [],
   "source": [
    "df_balanced['spam'] = df_balanced['Category'].apply(lambda x:1 if x=='spam' else 0)"
   ]
  },
  {
   "cell_type": "code",
   "execution_count": 18,
   "id": "c3282f3c-c802-4e98-a5db-fa5ef92ccd83",
   "metadata": {},
   "outputs": [
    {
     "data": {
      "text/html": [
       "<div>\n",
       "<style scoped>\n",
       "    .dataframe tbody tr th:only-of-type {\n",
       "        vertical-align: middle;\n",
       "    }\n",
       "\n",
       "    .dataframe tbody tr th {\n",
       "        vertical-align: top;\n",
       "    }\n",
       "\n",
       "    .dataframe thead th {\n",
       "        text-align: right;\n",
       "    }\n",
       "</style>\n",
       "<table border=\"1\" class=\"dataframe\">\n",
       "  <thead>\n",
       "    <tr style=\"text-align: right;\">\n",
       "      <th></th>\n",
       "      <th>Category</th>\n",
       "      <th>message</th>\n",
       "      <th>spam</th>\n",
       "    </tr>\n",
       "  </thead>\n",
       "  <tbody>\n",
       "    <tr>\n",
       "      <th>2</th>\n",
       "      <td>spam</td>\n",
       "      <td>Free entry in 2 a wkly comp to win FA Cup fina...</td>\n",
       "      <td>1</td>\n",
       "    </tr>\n",
       "    <tr>\n",
       "      <th>5</th>\n",
       "      <td>spam</td>\n",
       "      <td>FreeMsg Hey there darling it's been 3 week's n...</td>\n",
       "      <td>1</td>\n",
       "    </tr>\n",
       "    <tr>\n",
       "      <th>8</th>\n",
       "      <td>spam</td>\n",
       "      <td>WINNER!! As a valued network customer you have...</td>\n",
       "      <td>1</td>\n",
       "    </tr>\n",
       "    <tr>\n",
       "      <th>9</th>\n",
       "      <td>spam</td>\n",
       "      <td>Had your mobile 11 months or more? U R entitle...</td>\n",
       "      <td>1</td>\n",
       "    </tr>\n",
       "    <tr>\n",
       "      <th>11</th>\n",
       "      <td>spam</td>\n",
       "      <td>SIX chances to win CASH! From 100 to 20,000 po...</td>\n",
       "      <td>1</td>\n",
       "    </tr>\n",
       "    <tr>\n",
       "      <th>...</th>\n",
       "      <td>...</td>\n",
       "      <td>...</td>\n",
       "      <td>...</td>\n",
       "    </tr>\n",
       "    <tr>\n",
       "      <th>4285</th>\n",
       "      <td>ham</td>\n",
       "      <td>Yes. I come to nyc for audiitions and am tryin...</td>\n",
       "      <td>0</td>\n",
       "    </tr>\n",
       "    <tr>\n",
       "      <th>2798</th>\n",
       "      <td>ham</td>\n",
       "      <td>If I get there before you after your ten billi...</td>\n",
       "      <td>0</td>\n",
       "    </tr>\n",
       "    <tr>\n",
       "      <th>3873</th>\n",
       "      <td>ham</td>\n",
       "      <td>I am joining today formally.Pls keep praying.w...</td>\n",
       "      <td>0</td>\n",
       "    </tr>\n",
       "    <tr>\n",
       "      <th>96</th>\n",
       "      <td>ham</td>\n",
       "      <td>Watching telugu movie..wat abt u?</td>\n",
       "      <td>0</td>\n",
       "    </tr>\n",
       "    <tr>\n",
       "      <th>2489</th>\n",
       "      <td>ham</td>\n",
       "      <td>Aiyah e rain like quite big leh. If drizzling ...</td>\n",
       "      <td>0</td>\n",
       "    </tr>\n",
       "  </tbody>\n",
       "</table>\n",
       "<p>1494 rows × 3 columns</p>\n",
       "</div>"
      ],
      "text/plain": [
       "     Category                                            message  spam\n",
       "2        spam  Free entry in 2 a wkly comp to win FA Cup fina...     1\n",
       "5        spam  FreeMsg Hey there darling it's been 3 week's n...     1\n",
       "8        spam  WINNER!! As a valued network customer you have...     1\n",
       "9        spam  Had your mobile 11 months or more? U R entitle...     1\n",
       "11       spam  SIX chances to win CASH! From 100 to 20,000 po...     1\n",
       "...       ...                                                ...   ...\n",
       "4285      ham  Yes. I come to nyc for audiitions and am tryin...     0\n",
       "2798      ham  If I get there before you after your ten billi...     0\n",
       "3873      ham  I am joining today formally.Pls keep praying.w...     0\n",
       "96        ham                  Watching telugu movie..wat abt u?     0\n",
       "2489      ham  Aiyah e rain like quite big leh. If drizzling ...     0\n",
       "\n",
       "[1494 rows x 3 columns]"
      ]
     },
     "execution_count": 18,
     "metadata": {},
     "output_type": "execute_result"
    }
   ],
   "source": [
    "df_balanced"
   ]
  },
  {
   "cell_type": "code",
   "execution_count": 19,
   "id": "ecb472c8-6a80-456f-9316-13c27afb90fa",
   "metadata": {},
   "outputs": [],
   "source": [
    "from sklearn.model_selection import train_test_split"
   ]
  },
  {
   "cell_type": "code",
   "execution_count": 20,
   "id": "588ad8b8-561a-416d-993e-097e27c40363",
   "metadata": {},
   "outputs": [],
   "source": [
    "X_train,X_test,y_train,y_test = train_test_split(df_balanced['message'],df_balanced['spam'],stratify=df_balanced['spam'])"
   ]
  },
  {
   "cell_type": "code",
   "execution_count": 21,
   "id": "ba8bcf26-6734-4f44-87c0-b2bca869b52a",
   "metadata": {},
   "outputs": [
    {
     "data": {
      "text/plain": [
       "(1120,)"
      ]
     },
     "execution_count": 21,
     "metadata": {},
     "output_type": "execute_result"
    }
   ],
   "source": [
    "X_train.shape"
   ]
  },
  {
   "cell_type": "code",
   "execution_count": 22,
   "id": "124a09c9-ad2f-4920-a7c9-f0f2a35bb316",
   "metadata": {},
   "outputs": [
    {
     "data": {
      "text/plain": [
       "(374,)"
      ]
     },
     "execution_count": 22,
     "metadata": {},
     "output_type": "execute_result"
    }
   ],
   "source": [
    "X_test.shape"
   ]
  },
  {
   "cell_type": "code",
   "execution_count": 23,
   "id": "9084ca6d-4bb6-474c-881d-d2c8fb5e4379",
   "metadata": {},
   "outputs": [],
   "source": [
    "bert_preprocess = hub.KerasLayer(\"https://tfhub.dev/tensorflow/bert_en_uncased_preprocess/3\")"
   ]
  },
  {
   "cell_type": "code",
   "execution_count": 24,
   "id": "1cd4851f-62c3-42c1-a76c-3bc5a27211aa",
   "metadata": {},
   "outputs": [],
   "source": [
    "bert_encoder = hub.KerasLayer(\"https://tfhub.dev/tensorflow/bert_en_uncased_l-12_h-768_a-12/4\")"
   ]
  },
  {
   "cell_type": "code",
   "execution_count": 25,
   "id": "0e233c50-afda-4f58-891b-16307152d7ee",
   "metadata": {},
   "outputs": [],
   "source": [
    "def get_sentence_embedding(sentence):\n",
    "    preprocessed_text = bert_preprocess(sentence)\n",
    "    return bert_encoder(preprocessed_text)['pooled_output']"
   ]
  },
  {
   "cell_type": "code",
   "execution_count": 26,
   "id": "8849e6d4-6162-4635-8401-b7eec04a9ea9",
   "metadata": {},
   "outputs": [
    {
     "data": {
      "text/plain": [
       "<tf.Tensor: shape=(2, 768), dtype=float32, numpy=\n",
       "array([[-0.85819155, -0.24745461,  0.02313461, ...,  0.18083811,\n",
       "        -0.602175  ,  0.899182  ],\n",
       "       [-0.8518423 , -0.32695347, -0.05785218, ...,  0.08418541,\n",
       "        -0.60892713,  0.9140997 ]], dtype=float32)>"
      ]
     },
     "execution_count": 26,
     "metadata": {},
     "output_type": "execute_result"
    }
   ],
   "source": [
    "get_sentence_embedding([\n",
    "    \"I am going to pune\",\n",
    "    \"I am your Boss\"\n",
    "])"
   ]
  },
  {
   "cell_type": "code",
   "execution_count": 27,
   "id": "e8dc50b7-2966-4dd5-84f9-a3ae5f2a1b30",
   "metadata": {},
   "outputs": [],
   "source": [
    "e = get_sentence_embedding([\n",
    "    \"banana\",\n",
    "    \"grapes\",\n",
    "    \"mango\",\n",
    "    \"jeff bezos\",\n",
    "    \"elon musk\",\n",
    "    \"bill gates\"\n",
    "])"
   ]
  },
  {
   "cell_type": "code",
   "execution_count": 28,
   "id": "d1c47e42-0fa2-499c-a736-69a6941f0e81",
   "metadata": {},
   "outputs": [
    {
     "data": {
      "text/plain": [
       "<tf.Tensor: shape=(6, 768), dtype=float32, numpy=\n",
       "array([[-0.76071954, -0.14222385,  0.49599463, ...,  0.4215405 ,\n",
       "        -0.53218514,  0.80314916],\n",
       "       [-0.86038685, -0.21262017,  0.49019018, ...,  0.39687657,\n",
       "        -0.6052787 ,  0.8448607 ],\n",
       "       [-0.71292734, -0.15472871,  0.3831082 , ...,  0.35231316,\n",
       "        -0.51005566,  0.7348722 ],\n",
       "       [-0.8254045 , -0.35560212, -0.5906005 , ..., -0.01563795,\n",
       "        -0.61412346,  0.8723322 ],\n",
       "       [-0.7502036 , -0.268037  , -0.267203  , ...,  0.02813728,\n",
       "        -0.5936459 ,  0.7974844 ],\n",
       "       [-0.78568745, -0.2996764 ,  0.41004923, ...,  0.5222164 ,\n",
       "        -0.49591416,  0.81539726]], dtype=float32)>"
      ]
     },
     "execution_count": 28,
     "metadata": {},
     "output_type": "execute_result"
    }
   ],
   "source": [
    "e"
   ]
  },
  {
   "cell_type": "code",
   "execution_count": 29,
   "id": "414febb7-7bdc-45a9-b678-643b10977004",
   "metadata": {},
   "outputs": [],
   "source": [
    "from sklearn.metrics.pairwise import cosine_similarity"
   ]
  },
  {
   "cell_type": "code",
   "execution_count": 30,
   "id": "d7c2a1fd-eb23-4117-bb5b-375649863a30",
   "metadata": {},
   "outputs": [
    {
     "data": {
      "text/plain": [
       "array([[0.847075]], dtype=float32)"
      ]
     },
     "execution_count": 30,
     "metadata": {},
     "output_type": "execute_result"
    }
   ],
   "source": [
    "cosine_similarity([e[0]],[e[3]])"
   ]
  },
  {
   "cell_type": "code",
   "execution_count": 31,
   "id": "ef95d5b7-6168-403b-b64f-203d1eb586c5",
   "metadata": {},
   "outputs": [
    {
     "data": {
      "text/plain": [
       "array([[0.9910239]], dtype=float32)"
      ]
     },
     "execution_count": 31,
     "metadata": {},
     "output_type": "execute_result"
    }
   ],
   "source": [
    "cosine_similarity([e[0]],[e[1]])"
   ]
  },
  {
   "cell_type": "code",
   "execution_count": 32,
   "id": "ee547fc3-1562-4a8a-bcbf-d9137a88abed",
   "metadata": {},
   "outputs": [
    {
     "data": {
      "text/plain": [
       "array([[0.9164248]], dtype=float32)"
      ]
     },
     "execution_count": 32,
     "metadata": {},
     "output_type": "execute_result"
    }
   ],
   "source": [
    "cosine_similarity([e[4]],[e[5]])"
   ]
  },
  {
   "cell_type": "code",
   "execution_count": 33,
   "id": "68bd057f-50f5-4104-9c6a-5f030d922090",
   "metadata": {},
   "outputs": [
    {
     "data": {
      "text/plain": [
       "array([[0.9168963]], dtype=float32)"
      ]
     },
     "execution_count": 33,
     "metadata": {},
     "output_type": "execute_result"
    }
   ],
   "source": [
    "cosine_similarity([e[1]],[e[4]])"
   ]
  },
  {
   "cell_type": "code",
   "execution_count": 34,
   "id": "646b18f3-21d8-4e6d-82de-7f9649f4294d",
   "metadata": {},
   "outputs": [],
   "source": [
    "text_input = tf.keras.layers.Input(shape=(),dtype=tf.string,name='text')\n",
    "preprocessed_text = bert_preprocess(text_input)\n",
    "outputs = bert_encoder(preprocessed_text)"
   ]
  },
  {
   "cell_type": "code",
   "execution_count": 35,
   "id": "8abec615-aa9e-4896-bc08-ab62b6b425e5",
   "metadata": {},
   "outputs": [],
   "source": [
    "l = tf.keras.layers.Dropout(0.1,name='dropout')(outputs['pooled_output'])\n",
    "l = tf.keras.layers.Dense(1,activation='sigmoid',name='output')(l)\n",
    "model = tf.keras.Model(inputs=[text_input],outputs=[l])"
   ]
  },
  {
   "cell_type": "code",
   "execution_count": 36,
   "id": "84a81f91-df3f-4c38-a1f1-4488c8377243",
   "metadata": {},
   "outputs": [
    {
     "name": "stdout",
     "output_type": "stream",
     "text": [
      "Model: \"model\"\n",
      "__________________________________________________________________________________________________\n",
      " Layer (type)                   Output Shape         Param #     Connected to                     \n",
      "==================================================================================================\n",
      " text (InputLayer)              [(None,)]            0           []                               \n",
      "                                                                                                  \n",
      " keras_layer (KerasLayer)       {'input_word_ids':   0           ['text[0][0]']                   \n",
      "                                (None, 128),                                                      \n",
      "                                 'input_type_ids':                                                \n",
      "                                (None, 128),                                                      \n",
      "                                 'input_mask': (Non                                               \n",
      "                                e, 128)}                                                          \n",
      "                                                                                                  \n",
      " keras_layer_1 (KerasLayer)     {'sequence_output':  109482241   ['keras_layer[0][0]',            \n",
      "                                 (None, 128, 768),                'keras_layer[0][1]',            \n",
      "                                 'pooled_output': (               'keras_layer[0][2]']            \n",
      "                                None, 768),                                                       \n",
      "                                 'encoder_outputs':                                               \n",
      "                                 [(None, 128, 768),                                               \n",
      "                                 (None, 128, 768),                                                \n",
      "                                 (None, 128, 768),                                                \n",
      "                                 (None, 128, 768),                                                \n",
      "                                 (None, 128, 768),                                                \n",
      "                                 (None, 128, 768),                                                \n",
      "                                 (None, 128, 768),                                                \n",
      "                                 (None, 128, 768),                                                \n",
      "                                 (None, 128, 768),                                                \n",
      "                                 (None, 128, 768),                                                \n",
      "                                 (None, 128, 768),                                                \n",
      "                                 (None, 128, 768)],                                               \n",
      "                                 'default': (None,                                                \n",
      "                                768)}                                                             \n",
      "                                                                                                  \n",
      " dropout (Dropout)              (None, 768)          0           ['keras_layer_1[0][13]']         \n",
      "                                                                                                  \n",
      " output (Dense)                 (None, 1)            769         ['dropout[0][0]']                \n",
      "                                                                                                  \n",
      "==================================================================================================\n",
      "Total params: 109,483,010\n",
      "Trainable params: 769\n",
      "Non-trainable params: 109,482,241\n",
      "__________________________________________________________________________________________________\n"
     ]
    }
   ],
   "source": [
    "model.summary()"
   ]
  },
  {
   "cell_type": "code",
   "execution_count": 37,
   "id": "62a682f5-e485-4d2f-aaa9-15ec2a4a13b3",
   "metadata": {},
   "outputs": [],
   "source": [
    "METRICS = [\n",
    "    tf.keras.metrics.BinaryAccuracy(name='accuracy'),\n",
    "    tf.keras.metrics.Precision(name='Precision'),\n",
    "    tf.keras.metrics.Recall(name='Recall')\n",
    "]"
   ]
  },
  {
   "cell_type": "code",
   "execution_count": 38,
   "id": "21f12a1a-2d48-4414-8a31-f871a7b208c0",
   "metadata": {},
   "outputs": [],
   "source": [
    "model.compile(optimizer='adam',loss='binary_crossentropy',metrics=METRICS)"
   ]
  },
  {
   "cell_type": "code",
   "execution_count": 39,
   "id": "752a7030-7d37-4143-91f8-f139af167fd0",
   "metadata": {},
   "outputs": [
    {
     "name": "stdout",
     "output_type": "stream",
     "text": [
      "Epoch 1/10\n",
      "35/35 [==============================] - 18s 330ms/step - loss: 0.6393 - accuracy: 0.6446 - Precision: 0.6436 - Recall: 0.6482\n",
      "Epoch 2/10\n",
      "35/35 [==============================] - 12s 331ms/step - loss: 0.5053 - accuracy: 0.8214 - Precision: 0.8125 - Recall: 0.8357\n",
      "Epoch 3/10\n",
      "35/35 [==============================] - 12s 333ms/step - loss: 0.4270 - accuracy: 0.8741 - Precision: 0.8569 - Recall: 0.8982\n",
      "Epoch 4/10\n",
      "35/35 [==============================] - 12s 333ms/step - loss: 0.3869 - accuracy: 0.8723 - Precision: 0.8690 - Recall: 0.8768\n",
      "Epoch 5/10\n",
      "35/35 [==============================] - 12s 334ms/step - loss: 0.3475 - accuracy: 0.8920 - Precision: 0.8817 - Recall: 0.9054\n",
      "Epoch 6/10\n",
      "35/35 [==============================] - 12s 336ms/step - loss: 0.3317 - accuracy: 0.8911 - Precision: 0.8699 - Recall: 0.9196\n",
      "Epoch 7/10\n",
      "35/35 [==============================] - 12s 336ms/step - loss: 0.3078 - accuracy: 0.9098 - Precision: 0.9019 - Recall: 0.9196\n",
      "Epoch 8/10\n",
      "35/35 [==============================] - 12s 338ms/step - loss: 0.2889 - accuracy: 0.9027 - Precision: 0.8949 - Recall: 0.9125\n",
      "Epoch 9/10\n",
      "35/35 [==============================] - 12s 337ms/step - loss: 0.2832 - accuracy: 0.9036 - Precision: 0.8993 - Recall: 0.9089\n",
      "Epoch 10/10\n",
      "35/35 [==============================] - 12s 338ms/step - loss: 0.2704 - accuracy: 0.9125 - Precision: 0.8955 - Recall: 0.9339\n"
     ]
    },
    {
     "data": {
      "text/plain": [
       "<keras.callbacks.History at 0x20612d85130>"
      ]
     },
     "execution_count": 39,
     "metadata": {},
     "output_type": "execute_result"
    }
   ],
   "source": [
    "model.fit(X_train,y_train,epochs=10)"
   ]
  },
  {
   "cell_type": "code",
   "execution_count": 40,
   "id": "45215779-cca1-4228-9d60-d274f905cd00",
   "metadata": {},
   "outputs": [
    {
     "name": "stdout",
     "output_type": "stream",
     "text": [
      "12/12 [==============================] - 5s 324ms/step - loss: 0.2681 - accuracy: 0.9037 - Precision: 0.9081 - Recall: 0.8984\n"
     ]
    },
    {
     "data": {
      "text/plain": [
       "[0.26810458302497864, 0.903743326663971, 0.908108115196228, 0.8983957171440125]"
      ]
     },
     "execution_count": 40,
     "metadata": {},
     "output_type": "execute_result"
    }
   ],
   "source": [
    "model.evaluate(X_test,y_test)"
   ]
  },
  {
   "cell_type": "code",
   "execution_count": 41,
   "id": "8158a271-6b30-4f36-8611-fb35fc31a72e",
   "metadata": {},
   "outputs": [
    {
     "name": "stdout",
     "output_type": "stream",
     "text": [
      "12/12 [==============================] - 4s 331ms/step\n"
     ]
    }
   ],
   "source": [
    "y_predicted = model.predict(X_test)\n"
   ]
  },
  {
   "cell_type": "code",
   "execution_count": 42,
   "id": "b3924109-23d3-479e-b81e-0ad062867dd7",
   "metadata": {},
   "outputs": [
    {
     "data": {
      "text/plain": [
       "array([[0.15151569],\n",
       "       [0.35835442],\n",
       "       [0.91237336],\n",
       "       [0.05109063],\n",
       "       [0.9574852 ],\n",
       "       [0.9053658 ],\n",
       "       [0.09239344],\n",
       "       [0.77206856],\n",
       "       [0.97652346],\n",
       "       [0.08783272],\n",
       "       [0.02695783],\n",
       "       [0.9563992 ],\n",
       "       [0.6990579 ],\n",
       "       [0.11121851],\n",
       "       [0.03439104],\n",
       "       [0.02922911],\n",
       "       [0.94129115],\n",
       "       [0.02879162],\n",
       "       [0.8795142 ],\n",
       "       [0.3808033 ],\n",
       "       [0.73877954],\n",
       "       [0.09333287],\n",
       "       [0.03108304],\n",
       "       [0.07898823],\n",
       "       [0.57959306],\n",
       "       [0.6274934 ],\n",
       "       [0.8154144 ],\n",
       "       [0.19527355],\n",
       "       [0.9340025 ],\n",
       "       [0.96090233],\n",
       "       [0.18441416],\n",
       "       [0.9303796 ],\n",
       "       [0.95543736],\n",
       "       [0.90988064],\n",
       "       [0.00959044],\n",
       "       [0.30762842],\n",
       "       [0.74698746],\n",
       "       [0.7994384 ],\n",
       "       [0.16390735],\n",
       "       [0.59689164],\n",
       "       [0.04065235],\n",
       "       [0.6119632 ],\n",
       "       [0.06467623],\n",
       "       [0.801519  ],\n",
       "       [0.3380061 ],\n",
       "       [0.131511  ],\n",
       "       [0.03994065],\n",
       "       [0.8379062 ],\n",
       "       [0.9856666 ],\n",
       "       [0.81257284],\n",
       "       [0.83313376],\n",
       "       [0.5930986 ],\n",
       "       [0.05040737],\n",
       "       [0.07129309],\n",
       "       [0.8091978 ],\n",
       "       [0.09485722],\n",
       "       [0.3452804 ],\n",
       "       [0.08611884],\n",
       "       [0.04403352],\n",
       "       [0.95357114],\n",
       "       [0.7436758 ],\n",
       "       [0.86201674],\n",
       "       [0.8543802 ],\n",
       "       [0.04660567],\n",
       "       [0.19934629],\n",
       "       [0.5930986 ],\n",
       "       [0.05010545],\n",
       "       [0.02023297],\n",
       "       [0.21802604],\n",
       "       [0.95146996],\n",
       "       [0.44423547],\n",
       "       [0.7860156 ],\n",
       "       [0.04156739],\n",
       "       [0.0908295 ],\n",
       "       [0.9203136 ],\n",
       "       [0.87517077],\n",
       "       [0.08949337],\n",
       "       [0.9062389 ],\n",
       "       [0.9765702 ],\n",
       "       [0.06474042],\n",
       "       [0.8585897 ],\n",
       "       [0.0360976 ],\n",
       "       [0.653763  ],\n",
       "       [0.6457559 ],\n",
       "       [0.3945964 ],\n",
       "       [0.06854843],\n",
       "       [0.8959533 ],\n",
       "       [0.9597576 ],\n",
       "       [0.04796489],\n",
       "       [0.06753393],\n",
       "       [0.5470771 ],\n",
       "       [0.383094  ],\n",
       "       [0.0324294 ],\n",
       "       [0.03857027],\n",
       "       [0.9081291 ],\n",
       "       [0.7115089 ],\n",
       "       [0.8935182 ],\n",
       "       [0.9527741 ],\n",
       "       [0.9642506 ],\n",
       "       [0.8101762 ],\n",
       "       [0.03578062],\n",
       "       [0.9188386 ],\n",
       "       [0.4627121 ],\n",
       "       [0.2500774 ],\n",
       "       [0.5089691 ],\n",
       "       [0.03673333],\n",
       "       [0.14655276],\n",
       "       [0.87280095],\n",
       "       [0.90145284],\n",
       "       [0.16070816],\n",
       "       [0.04291562],\n",
       "       [0.05250039],\n",
       "       [0.02397683],\n",
       "       [0.7122297 ],\n",
       "       [0.06724143],\n",
       "       [0.15154056],\n",
       "       [0.26800087],\n",
       "       [0.9423095 ],\n",
       "       [0.77854586],\n",
       "       [0.09441616],\n",
       "       [0.14167653],\n",
       "       [0.7532137 ],\n",
       "       [0.12195888],\n",
       "       [0.03177423],\n",
       "       [0.77566564],\n",
       "       [0.49117023],\n",
       "       [0.85336214],\n",
       "       [0.20717789],\n",
       "       [0.29180652],\n",
       "       [0.9671039 ],\n",
       "       [0.91978735],\n",
       "       [0.88735116],\n",
       "       [0.11023341],\n",
       "       [0.7730477 ],\n",
       "       [0.9000417 ],\n",
       "       [0.04421288],\n",
       "       [0.7462306 ],\n",
       "       [0.31310353],\n",
       "       [0.8330415 ],\n",
       "       [0.05462182],\n",
       "       [0.0383901 ],\n",
       "       [0.747776  ],\n",
       "       [0.11953093],\n",
       "       [0.08162482],\n",
       "       [0.13072033],\n",
       "       [0.8154144 ],\n",
       "       [0.63367593],\n",
       "       [0.5105851 ],\n",
       "       [0.84070975],\n",
       "       [0.9200044 ],\n",
       "       [0.0765466 ],\n",
       "       [0.27742523],\n",
       "       [0.06097031],\n",
       "       [0.91400975],\n",
       "       [0.06577622],\n",
       "       [0.22138843],\n",
       "       [0.04182189],\n",
       "       [0.95716625],\n",
       "       [0.92540926],\n",
       "       [0.81191385],\n",
       "       [0.42876488],\n",
       "       [0.9600235 ],\n",
       "       [0.5581238 ],\n",
       "       [0.7177146 ],\n",
       "       [0.41991878],\n",
       "       [0.01713892],\n",
       "       [0.688141  ],\n",
       "       [0.04098007],\n",
       "       [0.16246058],\n",
       "       [0.8308228 ],\n",
       "       [0.6625478 ],\n",
       "       [0.12064182],\n",
       "       [0.85947126],\n",
       "       [0.9687006 ],\n",
       "       [0.26015007],\n",
       "       [0.50715   ],\n",
       "       [0.08097247],\n",
       "       [0.33049354],\n",
       "       [0.09747583],\n",
       "       [0.95685595],\n",
       "       [0.8077158 ],\n",
       "       [0.86625564],\n",
       "       [0.87843114],\n",
       "       [0.09532555],\n",
       "       [0.52963305],\n",
       "       [0.23930281],\n",
       "       [0.8922204 ],\n",
       "       [0.13328609],\n",
       "       [0.4896432 ],\n",
       "       [0.42434826],\n",
       "       [0.7653148 ],\n",
       "       [0.70703334],\n",
       "       [0.58469653],\n",
       "       [0.4771792 ],\n",
       "       [0.91715944],\n",
       "       [0.96021247],\n",
       "       [0.8973205 ],\n",
       "       [0.7860779 ],\n",
       "       [0.92686063],\n",
       "       [0.03233346],\n",
       "       [0.7860779 ],\n",
       "       [0.14371368],\n",
       "       [0.9202486 ],\n",
       "       [0.6681903 ],\n",
       "       [0.05642305],\n",
       "       [0.35311514],\n",
       "       [0.01970942],\n",
       "       [0.82196045],\n",
       "       [0.8442483 ],\n",
       "       [0.8827689 ],\n",
       "       [0.1193236 ],\n",
       "       [0.73155665],\n",
       "       [0.03631908],\n",
       "       [0.6842964 ],\n",
       "       [0.91325504],\n",
       "       [0.05086268],\n",
       "       [0.9054421 ],\n",
       "       [0.72638243],\n",
       "       [0.8342717 ],\n",
       "       [0.9734892 ],\n",
       "       [0.89065224],\n",
       "       [0.5063258 ],\n",
       "       [0.03545257],\n",
       "       [0.01763115],\n",
       "       [0.9828697 ],\n",
       "       [0.7824785 ],\n",
       "       [0.36123538],\n",
       "       [0.76688975],\n",
       "       [0.8722511 ],\n",
       "       [0.3229891 ],\n",
       "       [0.04354623],\n",
       "       [0.04096118],\n",
       "       [0.5266734 ],\n",
       "       [0.00497521],\n",
       "       [0.03855617],\n",
       "       [0.16704169],\n",
       "       [0.90145224],\n",
       "       [0.01967337],\n",
       "       [0.9905036 ],\n",
       "       [0.87655413],\n",
       "       [0.8442204 ],\n",
       "       [0.10987625],\n",
       "       [0.92358655],\n",
       "       [0.03976153],\n",
       "       [0.28762874],\n",
       "       [0.9169078 ],\n",
       "       [0.02643309],\n",
       "       [0.731888  ],\n",
       "       [0.07119577],\n",
       "       [0.00711067],\n",
       "       [0.03841884],\n",
       "       [0.576173  ],\n",
       "       [0.47455114],\n",
       "       [0.92651033],\n",
       "       [0.96454185],\n",
       "       [0.16439804],\n",
       "       [0.21485703],\n",
       "       [0.8685779 ],\n",
       "       [0.04569126],\n",
       "       [0.71461546],\n",
       "       [0.18296666],\n",
       "       [0.6278413 ],\n",
       "       [0.91688716],\n",
       "       [0.5841617 ],\n",
       "       [0.1181061 ],\n",
       "       [0.8015162 ],\n",
       "       [0.12211857],\n",
       "       [0.10402144],\n",
       "       [0.22408074],\n",
       "       [0.4386092 ],\n",
       "       [0.01664497],\n",
       "       [0.0264815 ],\n",
       "       [0.42671654],\n",
       "       [0.02120888],\n",
       "       [0.07746833],\n",
       "       [0.12264781],\n",
       "       [0.09529497],\n",
       "       [0.7146192 ],\n",
       "       [0.30261683],\n",
       "       [0.41362104],\n",
       "       [0.9233866 ],\n",
       "       [0.87993085],\n",
       "       [0.14091834],\n",
       "       [0.01657239],\n",
       "       [0.9394188 ],\n",
       "       [0.9010982 ],\n",
       "       [0.01271376],\n",
       "       [0.09997406],\n",
       "       [0.93206173],\n",
       "       [0.05989056],\n",
       "       [0.03855617],\n",
       "       [0.8667214 ],\n",
       "       [0.3240282 ],\n",
       "       [0.7808389 ],\n",
       "       [0.5671906 ],\n",
       "       [0.8252528 ],\n",
       "       [0.753064  ],\n",
       "       [0.97121364],\n",
       "       [0.77385974],\n",
       "       [0.10487282],\n",
       "       [0.10297184],\n",
       "       [0.11386789],\n",
       "       [0.89035934],\n",
       "       [0.9720509 ],\n",
       "       [0.39077374],\n",
       "       [0.77272356],\n",
       "       [0.80898774],\n",
       "       [0.95574224],\n",
       "       [0.05760195],\n",
       "       [0.19925801],\n",
       "       [0.00780714],\n",
       "       [0.08957569],\n",
       "       [0.652699  ],\n",
       "       [0.5786387 ],\n",
       "       [0.17161748],\n",
       "       [0.9363551 ],\n",
       "       [0.77826726],\n",
       "       [0.902881  ],\n",
       "       [0.08329245],\n",
       "       [0.5285672 ],\n",
       "       [0.49684438],\n",
       "       [0.07759451],\n",
       "       [0.15901114],\n",
       "       [0.05881289],\n",
       "       [0.89558464],\n",
       "       [0.7414714 ],\n",
       "       [0.11521415],\n",
       "       [0.53151166],\n",
       "       [0.92361665],\n",
       "       [0.8818338 ],\n",
       "       [0.1206989 ],\n",
       "       [0.90513945],\n",
       "       [0.03745501],\n",
       "       [0.96913415],\n",
       "       [0.0257524 ],\n",
       "       [0.17061982],\n",
       "       [0.7683547 ],\n",
       "       [0.12265825],\n",
       "       [0.02943135],\n",
       "       [0.5080531 ],\n",
       "       [0.84886503],\n",
       "       [0.7687616 ],\n",
       "       [0.88735116],\n",
       "       [0.04059843],\n",
       "       [0.06143101],\n",
       "       [0.9366781 ],\n",
       "       [0.74186236],\n",
       "       [0.0778401 ],\n",
       "       [0.01299269],\n",
       "       [0.3267359 ],\n",
       "       [0.16106799],\n",
       "       [0.8153518 ],\n",
       "       [0.8247551 ],\n",
       "       [0.01879825],\n",
       "       [0.50395435],\n",
       "       [0.7921366 ],\n",
       "       [0.13051982],\n",
       "       [0.05173782],\n",
       "       [0.04120016],\n",
       "       [0.2813816 ],\n",
       "       [0.438895  ],\n",
       "       [0.8707287 ],\n",
       "       [0.36888996],\n",
       "       [0.4412853 ],\n",
       "       [0.36104316],\n",
       "       [0.07862859],\n",
       "       [0.9485175 ],\n",
       "       [0.2872417 ],\n",
       "       [0.88321346],\n",
       "       [0.9515551 ],\n",
       "       [0.22386202],\n",
       "       [0.00742597],\n",
       "       [0.0313496 ],\n",
       "       [0.72644335]], dtype=float32)"
      ]
     },
     "execution_count": 42,
     "metadata": {},
     "output_type": "execute_result"
    }
   ],
   "source": [
    "y_predicted"
   ]
  },
  {
   "cell_type": "code",
   "execution_count": 43,
   "id": "888a945c-f7d1-4680-8d24-0891b56c6d18",
   "metadata": {},
   "outputs": [],
   "source": [
    "y_predicted = y_predicted.flatten()"
   ]
  },
  {
   "cell_type": "code",
   "execution_count": 44,
   "id": "ebea917e-74fc-4159-954f-0bbd77cce1b2",
   "metadata": {},
   "outputs": [
    {
     "data": {
      "text/plain": [
       "array([0.15151569, 0.35835442, 0.91237336, 0.05109063, 0.9574852 ,\n",
       "       0.9053658 , 0.09239344, 0.77206856, 0.97652346, 0.08783272,\n",
       "       0.02695783, 0.9563992 , 0.6990579 , 0.11121851, 0.03439104,\n",
       "       0.02922911, 0.94129115, 0.02879162, 0.8795142 , 0.3808033 ,\n",
       "       0.73877954, 0.09333287, 0.03108304, 0.07898823, 0.57959306,\n",
       "       0.6274934 , 0.8154144 , 0.19527355, 0.9340025 , 0.96090233,\n",
       "       0.18441416, 0.9303796 , 0.95543736, 0.90988064, 0.00959044,\n",
       "       0.30762842, 0.74698746, 0.7994384 , 0.16390735, 0.59689164,\n",
       "       0.04065235, 0.6119632 , 0.06467623, 0.801519  , 0.3380061 ,\n",
       "       0.131511  , 0.03994065, 0.8379062 , 0.9856666 , 0.81257284,\n",
       "       0.83313376, 0.5930986 , 0.05040737, 0.07129309, 0.8091978 ,\n",
       "       0.09485722, 0.3452804 , 0.08611884, 0.04403352, 0.95357114,\n",
       "       0.7436758 , 0.86201674, 0.8543802 , 0.04660567, 0.19934629,\n",
       "       0.5930986 , 0.05010545, 0.02023297, 0.21802604, 0.95146996,\n",
       "       0.44423547, 0.7860156 , 0.04156739, 0.0908295 , 0.9203136 ,\n",
       "       0.87517077, 0.08949337, 0.9062389 , 0.9765702 , 0.06474042,\n",
       "       0.8585897 , 0.0360976 , 0.653763  , 0.6457559 , 0.3945964 ,\n",
       "       0.06854843, 0.8959533 , 0.9597576 , 0.04796489, 0.06753393,\n",
       "       0.5470771 , 0.383094  , 0.0324294 , 0.03857027, 0.9081291 ,\n",
       "       0.7115089 , 0.8935182 , 0.9527741 , 0.9642506 , 0.8101762 ,\n",
       "       0.03578062, 0.9188386 , 0.4627121 , 0.2500774 , 0.5089691 ,\n",
       "       0.03673333, 0.14655276, 0.87280095, 0.90145284, 0.16070816,\n",
       "       0.04291562, 0.05250039, 0.02397683, 0.7122297 , 0.06724143,\n",
       "       0.15154056, 0.26800087, 0.9423095 , 0.77854586, 0.09441616,\n",
       "       0.14167653, 0.7532137 , 0.12195888, 0.03177423, 0.77566564,\n",
       "       0.49117023, 0.85336214, 0.20717789, 0.29180652, 0.9671039 ,\n",
       "       0.91978735, 0.88735116, 0.11023341, 0.7730477 , 0.9000417 ,\n",
       "       0.04421288, 0.7462306 , 0.31310353, 0.8330415 , 0.05462182,\n",
       "       0.0383901 , 0.747776  , 0.11953093, 0.08162482, 0.13072033,\n",
       "       0.8154144 , 0.63367593, 0.5105851 , 0.84070975, 0.9200044 ,\n",
       "       0.0765466 , 0.27742523, 0.06097031, 0.91400975, 0.06577622,\n",
       "       0.22138843, 0.04182189, 0.95716625, 0.92540926, 0.81191385,\n",
       "       0.42876488, 0.9600235 , 0.5581238 , 0.7177146 , 0.41991878,\n",
       "       0.01713892, 0.688141  , 0.04098007, 0.16246058, 0.8308228 ,\n",
       "       0.6625478 , 0.12064182, 0.85947126, 0.9687006 , 0.26015007,\n",
       "       0.50715   , 0.08097247, 0.33049354, 0.09747583, 0.95685595,\n",
       "       0.8077158 , 0.86625564, 0.87843114, 0.09532555, 0.52963305,\n",
       "       0.23930281, 0.8922204 , 0.13328609, 0.4896432 , 0.42434826,\n",
       "       0.7653148 , 0.70703334, 0.58469653, 0.4771792 , 0.91715944,\n",
       "       0.96021247, 0.8973205 , 0.7860779 , 0.92686063, 0.03233346,\n",
       "       0.7860779 , 0.14371368, 0.9202486 , 0.6681903 , 0.05642305,\n",
       "       0.35311514, 0.01970942, 0.82196045, 0.8442483 , 0.8827689 ,\n",
       "       0.1193236 , 0.73155665, 0.03631908, 0.6842964 , 0.91325504,\n",
       "       0.05086268, 0.9054421 , 0.72638243, 0.8342717 , 0.9734892 ,\n",
       "       0.89065224, 0.5063258 , 0.03545257, 0.01763115, 0.9828697 ,\n",
       "       0.7824785 , 0.36123538, 0.76688975, 0.8722511 , 0.3229891 ,\n",
       "       0.04354623, 0.04096118, 0.5266734 , 0.00497521, 0.03855617,\n",
       "       0.16704169, 0.90145224, 0.01967337, 0.9905036 , 0.87655413,\n",
       "       0.8442204 , 0.10987625, 0.92358655, 0.03976153, 0.28762874,\n",
       "       0.9169078 , 0.02643309, 0.731888  , 0.07119577, 0.00711067,\n",
       "       0.03841884, 0.576173  , 0.47455114, 0.92651033, 0.96454185,\n",
       "       0.16439804, 0.21485703, 0.8685779 , 0.04569126, 0.71461546,\n",
       "       0.18296666, 0.6278413 , 0.91688716, 0.5841617 , 0.1181061 ,\n",
       "       0.8015162 , 0.12211857, 0.10402144, 0.22408074, 0.4386092 ,\n",
       "       0.01664497, 0.0264815 , 0.42671654, 0.02120888, 0.07746833,\n",
       "       0.12264781, 0.09529497, 0.7146192 , 0.30261683, 0.41362104,\n",
       "       0.9233866 , 0.87993085, 0.14091834, 0.01657239, 0.9394188 ,\n",
       "       0.9010982 , 0.01271376, 0.09997406, 0.93206173, 0.05989056,\n",
       "       0.03855617, 0.8667214 , 0.3240282 , 0.7808389 , 0.5671906 ,\n",
       "       0.8252528 , 0.753064  , 0.97121364, 0.77385974, 0.10487282,\n",
       "       0.10297184, 0.11386789, 0.89035934, 0.9720509 , 0.39077374,\n",
       "       0.77272356, 0.80898774, 0.95574224, 0.05760195, 0.19925801,\n",
       "       0.00780714, 0.08957569, 0.652699  , 0.5786387 , 0.17161748,\n",
       "       0.9363551 , 0.77826726, 0.902881  , 0.08329245, 0.5285672 ,\n",
       "       0.49684438, 0.07759451, 0.15901114, 0.05881289, 0.89558464,\n",
       "       0.7414714 , 0.11521415, 0.53151166, 0.92361665, 0.8818338 ,\n",
       "       0.1206989 , 0.90513945, 0.03745501, 0.96913415, 0.0257524 ,\n",
       "       0.17061982, 0.7683547 , 0.12265825, 0.02943135, 0.5080531 ,\n",
       "       0.84886503, 0.7687616 , 0.88735116, 0.04059843, 0.06143101,\n",
       "       0.9366781 , 0.74186236, 0.0778401 , 0.01299269, 0.3267359 ,\n",
       "       0.16106799, 0.8153518 , 0.8247551 , 0.01879825, 0.50395435,\n",
       "       0.7921366 , 0.13051982, 0.05173782, 0.04120016, 0.2813816 ,\n",
       "       0.438895  , 0.8707287 , 0.36888996, 0.4412853 , 0.36104316,\n",
       "       0.07862859, 0.9485175 , 0.2872417 , 0.88321346, 0.9515551 ,\n",
       "       0.22386202, 0.00742597, 0.0313496 , 0.72644335], dtype=float32)"
      ]
     },
     "execution_count": 44,
     "metadata": {},
     "output_type": "execute_result"
    }
   ],
   "source": [
    "y_predicted"
   ]
  },
  {
   "cell_type": "code",
   "execution_count": 45,
   "id": "c40a58c5-6ecb-417f-8e64-1e2fb428197e",
   "metadata": {},
   "outputs": [],
   "source": [
    "import numpy as np"
   ]
  },
  {
   "cell_type": "code",
   "execution_count": 46,
   "id": "1bfb8ba5-b7bd-4997-a3c3-862f9ba839bf",
   "metadata": {},
   "outputs": [],
   "source": [
    "y_predicted = np.where(y_predicted>0.5,1,0)"
   ]
  },
  {
   "cell_type": "code",
   "execution_count": 47,
   "id": "85f419c3-d3b6-4b25-a395-a805306f60c8",
   "metadata": {},
   "outputs": [
    {
     "data": {
      "text/plain": [
       "array([0, 0, 1, 0, 1, 1, 0, 1, 1, 0, 0, 1, 1, 0, 0, 0, 1, 0, 1, 0, 1, 0,\n",
       "       0, 0, 1, 1, 1, 0, 1, 1, 0, 1, 1, 1, 0, 0, 1, 1, 0, 1, 0, 1, 0, 1,\n",
       "       0, 0, 0, 1, 1, 1, 1, 1, 0, 0, 1, 0, 0, 0, 0, 1, 1, 1, 1, 0, 0, 1,\n",
       "       0, 0, 0, 1, 0, 1, 0, 0, 1, 1, 0, 1, 1, 0, 1, 0, 1, 1, 0, 0, 1, 1,\n",
       "       0, 0, 1, 0, 0, 0, 1, 1, 1, 1, 1, 1, 0, 1, 0, 0, 1, 0, 0, 1, 1, 0,\n",
       "       0, 0, 0, 1, 0, 0, 0, 1, 1, 0, 0, 1, 0, 0, 1, 0, 1, 0, 0, 1, 1, 1,\n",
       "       0, 1, 1, 0, 1, 0, 1, 0, 0, 1, 0, 0, 0, 1, 1, 1, 1, 1, 0, 0, 0, 1,\n",
       "       0, 0, 0, 1, 1, 1, 0, 1, 1, 1, 0, 0, 1, 0, 0, 1, 1, 0, 1, 1, 0, 1,\n",
       "       0, 0, 0, 1, 1, 1, 1, 0, 1, 0, 1, 0, 0, 0, 1, 1, 1, 0, 1, 1, 1, 1,\n",
       "       1, 0, 1, 0, 1, 1, 0, 0, 0, 1, 1, 1, 0, 1, 0, 1, 1, 0, 1, 1, 1, 1,\n",
       "       1, 1, 0, 0, 1, 1, 0, 1, 1, 0, 0, 0, 1, 0, 0, 0, 1, 0, 1, 1, 1, 0,\n",
       "       1, 0, 0, 1, 0, 1, 0, 0, 0, 1, 0, 1, 1, 0, 0, 1, 0, 1, 0, 1, 1, 1,\n",
       "       0, 1, 0, 0, 0, 0, 0, 0, 0, 0, 0, 0, 0, 1, 0, 0, 1, 1, 0, 0, 1, 1,\n",
       "       0, 0, 1, 0, 0, 1, 0, 1, 1, 1, 1, 1, 1, 0, 0, 0, 1, 1, 0, 1, 1, 1,\n",
       "       0, 0, 0, 0, 1, 1, 0, 1, 1, 1, 0, 1, 0, 0, 0, 0, 1, 1, 0, 1, 1, 1,\n",
       "       0, 1, 0, 1, 0, 0, 1, 0, 0, 1, 1, 1, 1, 0, 0, 1, 1, 0, 0, 0, 0, 1,\n",
       "       1, 0, 1, 1, 0, 0, 0, 0, 0, 1, 0, 0, 0, 0, 1, 0, 1, 1, 0, 0, 0, 1])"
      ]
     },
     "execution_count": 47,
     "metadata": {},
     "output_type": "execute_result"
    }
   ],
   "source": [
    "y_predicted"
   ]
  },
  {
   "cell_type": "code",
   "execution_count": 48,
   "id": "b0c46b1f-d8f3-445f-99d5-209004054775",
   "metadata": {},
   "outputs": [],
   "source": [
    "from sklearn.metrics import confusion_matrix,classification_report"
   ]
  },
  {
   "cell_type": "code",
   "execution_count": 49,
   "id": "e13dcf89-e541-4f31-b469-48c3dedf57d1",
   "metadata": {},
   "outputs": [],
   "source": [
    "cm = confusion_matrix(y_test,y_predicted)"
   ]
  },
  {
   "cell_type": "code",
   "execution_count": 50,
   "id": "c729ec0d-c4f6-450b-ac62-1d057ef523f6",
   "metadata": {},
   "outputs": [],
   "source": [
    "from matplotlib import pyplot as plt\n",
    "import seaborn as sns"
   ]
  },
  {
   "cell_type": "code",
   "execution_count": 51,
   "id": "6e5fe215-ef03-493a-8898-c9cda6da438b",
   "metadata": {},
   "outputs": [
    {
     "data": {
      "image/png": "[encoded data removed]",
      "text/plain": [
       "<Figure size 640x480 with 2 Axes>"
      ]
     },
     "metadata": {},
     "output_type": "display_data"
    }
   ],
   "source": [
    "sns.heatmap(cm,annot=True,fmt='d')\n",
    "plt.xlabel('Predicted')\n",
    "plt.ylabel('Truth')\n",
    "plt.show()"
   ]
  },
  {
   "cell_type": "code",
   "execution_count": 52,
   "id": "3a64c2a1-6e9a-460b-877a-e04f04428402",
   "metadata": {},
   "outputs": [
    {
     "name": "stdout",
     "output_type": "stream",
     "text": [
      "              precision    recall  f1-score   support\n",
      "\n",
      "           0       0.90      0.91      0.90       187\n",
      "           1       0.91      0.90      0.90       187\n",
      "\n",
      "    accuracy                           0.90       374\n",
      "   macro avg       0.90      0.90      0.90       374\n",
      "weighted avg       0.90      0.90      0.90       374\n",
      "\n"
     ]
    }
   ],
   "source": [
    "print(classification_report(y_test,y_predicted))"
   ]
  },
  {
   "cell_type": "code",
   "execution_count": 53,
   "id": "ec4a4732-dcda-47a6-a689-51512fd611e6",
   "metadata": {},
   "outputs": [],
   "source": [
    "reviews = [\n",
    "    \"hurry up! buy insurance policy with 30% discount with yearly subscription\",\n",
    "    \"I am coming to your home tonight\"\n",
    "]"
   ]
  },
  {
   "cell_type": "code",
   "execution_count": 54,
   "id": "8058057a-3108-46d8-b421-01aefe8bb945",
   "metadata": {},
   "outputs": [
    {
     "name": "stdout",
     "output_type": "stream",
     "text": [
      "1/1 [==============================] - 1s 663ms/step\n"
     ]
    },
    {
     "data": {
      "text/plain": [
       "array([[0.51052684],\n",
       "       [0.12114938]], dtype=float32)"
      ]
     },
     "execution_count": 54,
     "metadata": {},
     "output_type": "execute_result"
    }
   ],
   "source": [
    "model.predict(reviews)"
   ]
  },
  {
   "cell_type": "code",
   "execution_count": null,
   "id": "7d55f3ce-f963-4429-9bcb-41fb0fc9457e",
   "metadata": {},
   "outputs": [],
   "source": []
  }
 ],
 "metadata": {
  "kernelspec": {
   "display_name": "Python 3 (ipykernel)",
   "language": "python",
   "name": "python3"
  },
  "language_info": {
   "codemirror_mode": {
    "name": "ipython",
    "version": 3
   },
   "file_extension": ".py",
   "mimetype": "text/x-python",
   "name": "python",
   "nbconvert_exporter": "python",
   "pygments_lexer": "ipython3",
   "version": "3.12.4"
  }
 },
 "nbformat": 4,
 "nbformat_minor": 5
}
